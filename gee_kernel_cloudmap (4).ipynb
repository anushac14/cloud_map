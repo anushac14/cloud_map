{
 "cells": [
  {
   "cell_type": "code",
   "execution_count": 12,
   "id": "d419b468",
   "metadata": {},
   "outputs": [],
   "source": [
    "import ipywidgets\n",
    "from ipywidgets import interact\n",
    "import ipywidgets as widgets\n",
    "import geemap\n",
    "import ee\n",
    "\n",
    "\n",
    "\n",
    "def cloudmap(hour=1,minute =1,month = 1, day = 1, year = 1):\n",
    "\n",
    "    start_hour = str(hour - 1)\n",
    "    start_minute = str(minute)\n",
    "    \n",
    "\n",
    "    end_hour = str(hour)\n",
    "    end_minute = str(minute)\n",
    "    \n",
    "    start_date_time = str(year) + \"-\"+ str(month) + \"-\" + str(day - 1)\n",
    "    end_date_time = str(year) + \"-\"+ str(month) + \"-\" + str(day)\n",
    "    \n",
    "\n",
    "    start_string = start_date_time + \"T\" + start_hour + \":\" + start_minute\n",
    "    end_string = end_date_time + \"T\" + end_hour + \":\" + end_minute\n",
    "    \n",
    "\n",
    "    Map = geemap.Map()\n",
    "\n",
    "\n",
    "    collection = ee.ImageCollection('COPERNICUS/S5P/NRTI/L3_CLOUD').select('cloud_fraction').filterDate(start_string, end_string);\n",
    "\n",
    "    band_viz = {\n",
    "      'min': 0,\n",
    "      'max': 0.95,\n",
    "        'opacity' : 0.5,\n",
    "\n",
    "      'palette': ['black', 'blue', 'purple', 'cyan', 'green', 'yellow', 'red']\n",
    "    };\n",
    "\n",
    "    Map.addLayer(collection.mean(), band_viz, 'S5P Cloud');\n",
    "    Map.setCenter(-58.14, -10.47, 2);\n",
    "    colors = band_viz['palette']\n",
    "    vmin = band_viz['min']\n",
    "    vmax = band_viz['max']\n",
    "\n",
    "    Map.add_colorbar_branca(colors=colors, vmin=vmin, vmax=vmax, layer_name=\"SRTM DEM\")\n",
    "\n",
    "    Map.zoom_to_me(zoom=14, add_marker=True)\n",
    "    \n",
    "    data = 'https://raw.githubusercontent.com/anushac14/cloudmap/main/austrailan_cities%20(1).csv'\n",
    "    Map.add_points_from_xy(data, x=\"longitude\", y=\"latitude\")\n",
    "    \n",
    "\n",
    "    \n",
    "    return Map\n"
   ]
  },
  {
   "cell_type": "code",
   "execution_count": 13,
   "id": "00f16111",
   "metadata": {
    "scrolled": true
   },
   "outputs": [
    {
     "data": {
      "application/vnd.jupyter.widget-view+json": {
       "model_id": "284347a412534a1e8896ef16b9966489",
       "version_major": 2,
       "version_minor": 0
      },
      "text/plain": [
       "interactive(children=(IntSlider(value=10, description='hour', max=24), IntSlider(value=10, description='minute…"
      ]
     },
     "metadata": {},
     "output_type": "display_data"
    },
    {
     "ename": "NameError",
     "evalue": "name 'Map' is not defined",
     "output_type": "error",
     "traceback": [
      "\u001b[0;31m---------------------------------------------------------------------------\u001b[0m",
      "\u001b[0;31mNameError\u001b[0m                                 Traceback (most recent call last)",
      "Cell \u001b[0;32mIn [13], line 2\u001b[0m\n\u001b[1;32m      1\u001b[0m interact(cloudmap, hour \u001b[38;5;241m=\u001b[39m widgets\u001b[38;5;241m.\u001b[39mIntSlider(\u001b[38;5;28mmin\u001b[39m\u001b[38;5;241m=\u001b[39m \u001b[38;5;241m0\u001b[39m, \u001b[38;5;28mmax\u001b[39m \u001b[38;5;241m=\u001b[39m \u001b[38;5;241m24\u001b[39m, step\u001b[38;5;241m=\u001b[39m \u001b[38;5;241m1\u001b[39m, value\u001b[38;5;241m=\u001b[39m \u001b[38;5;241m10\u001b[39m),minute \u001b[38;5;241m=\u001b[39m widgets\u001b[38;5;241m.\u001b[39mIntSlider(\u001b[38;5;28mmin\u001b[39m\u001b[38;5;241m=\u001b[39m \u001b[38;5;241m0\u001b[39m, \u001b[38;5;28mmax\u001b[39m \u001b[38;5;241m=\u001b[39m \u001b[38;5;241m60\u001b[39m, step \u001b[38;5;241m=\u001b[39m \u001b[38;5;241m1\u001b[39m, value\u001b[38;5;241m=\u001b[39m \u001b[38;5;241m10\u001b[39m),month \u001b[38;5;241m=\u001b[39m widgets\u001b[38;5;241m.\u001b[39mIntSlider(\u001b[38;5;28mmin\u001b[39m\u001b[38;5;241m=\u001b[39m \u001b[38;5;241m1\u001b[39m, \u001b[38;5;28mmax\u001b[39m \u001b[38;5;241m=\u001b[39m \u001b[38;5;241m12\u001b[39m, step\u001b[38;5;241m=\u001b[39m \u001b[38;5;241m1\u001b[39m, value\u001b[38;5;241m=\u001b[39m \u001b[38;5;241m10\u001b[39m), day \u001b[38;5;241m=\u001b[39m widgets\u001b[38;5;241m.\u001b[39mIntSlider(\u001b[38;5;28mmin\u001b[39m\u001b[38;5;241m=\u001b[39m\u001b[38;5;241m1\u001b[39m, \u001b[38;5;28mmax\u001b[39m\u001b[38;5;241m=\u001b[39m\u001b[38;5;241m31\u001b[39m, step\u001b[38;5;241m=\u001b[39m\u001b[38;5;241m1\u001b[39m, value\u001b[38;5;241m=\u001b[39m\u001b[38;5;241m10\u001b[39m), year \u001b[38;5;241m=\u001b[39m (widgets\u001b[38;5;241m.\u001b[39mIntSlider(\u001b[38;5;28mmin\u001b[39m\u001b[38;5;241m=\u001b[39m \u001b[38;5;241m2015\u001b[39m, \u001b[38;5;28mmax\u001b[39m \u001b[38;5;241m=\u001b[39m \u001b[38;5;241m2023\u001b[39m, step\u001b[38;5;241m=\u001b[39m \u001b[38;5;241m1\u001b[39m, value\u001b[38;5;241m=\u001b[39m \u001b[38;5;241m2020\u001b[39m)))\n\u001b[0;32m----> 2\u001b[0m \u001b[43mMap\u001b[49m\n",
      "\u001b[0;31mNameError\u001b[0m: name 'Map' is not defined"
     ]
    }
   ],
   "source": [
    "interact(cloudmap, hour = widgets.IntSlider(min= 0, max = 24, step= 1, value= 10),minute = widgets.IntSlider(min= 0, max = 60, step = 1, value= 10),month = widgets.IntSlider(min= 1, max = 12, step= 1, value= 10), day = widgets.IntSlider(min=1, max=31, step=1, value=10), year = (widgets.IntSlider(min= 2015, max = 2023, step= 1, value= 2020)))\n",
    "Map"
   ]
  },
  {
   "cell_type": "code",
   "execution_count": null,
   "id": "74ae33c5",
   "metadata": {},
   "outputs": [],
   "source": []
  }
 ],
 "metadata": {
  "kernelspec": {
   "display_name": "gee",
   "language": "python",
   "name": "gee"
  },
  "language_info": {
   "codemirror_mode": {
    "name": "ipython",
    "version": 3
   },
   "file_extension": ".py",
   "mimetype": "text/x-python",
   "name": "python",
   "nbconvert_exporter": "python",
   "pygments_lexer": "ipython3",
   "version": "3.10.6"
  }
 },
 "nbformat": 4,
 "nbformat_minor": 5
}
